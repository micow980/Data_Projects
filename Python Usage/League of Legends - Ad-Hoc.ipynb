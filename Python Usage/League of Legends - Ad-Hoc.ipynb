{
 "cells": [
  {
   "cell_type": "markdown",
   "metadata": {},
   "source": [
    "League of Legends is a game that has captivated the world since its debut in 2009. From all walks of life, players are passionate and ready to tell Riot at their mercy when they believe a champion needs to be buffed or nerfed. In this analysis, I will be attempting to be a league of legends Balance Team Analyst to bring a list of champions that may be nerfed for the upcoming patch release. From this analysis we will be analyzing Win Rates and Ban Rates provided by (https://www.kaggle.com/datasets/vivovinco/league-of-legends-champion-stats)."
   ]
  },
  {
   "cell_type": "code",
   "execution_count": 2,
   "metadata": {},
   "outputs": [],
   "source": [
    "import pandas as pd"
   ]
  },
  {
   "cell_type": "markdown",
   "metadata": {},
   "source": [
    "I will first start by importing the CSV to Pandas and putting it into a dataframe with a ';' Delimiter"
   ]
  },
  {
   "cell_type": "code",
   "execution_count": 27,
   "metadata": {},
   "outputs": [],
   "source": [
    "df = pd.read_csv('C:/Users/Micha/Desktop/Data Analysis Practice/League of Legends Nerf or Buff/League of Legends Champion Stats 12.18.csv'\n",
    "                    ,sep = ';'\n",
    "                    ,engine = 'python')"
   ]
  },
  {
   "cell_type": "code",
   "execution_count": 4,
   "metadata": {},
   "outputs": [
    {
     "data": {
      "text/html": [
       "<div>\n",
       "<style scoped>\n",
       "    .dataframe tbody tr th:only-of-type {\n",
       "        vertical-align: middle;\n",
       "    }\n",
       "\n",
       "    .dataframe tbody tr th {\n",
       "        vertical-align: top;\n",
       "    }\n",
       "\n",
       "    .dataframe thead th {\n",
       "        text-align: right;\n",
       "    }\n",
       "</style>\n",
       "<table border=\"1\" class=\"dataframe\">\n",
       "  <thead>\n",
       "    <tr style=\"text-align: right;\">\n",
       "      <th></th>\n",
       "      <th>Name</th>\n",
       "      <th>Class</th>\n",
       "      <th>Role</th>\n",
       "      <th>Tier</th>\n",
       "      <th>Score</th>\n",
       "      <th>Trend</th>\n",
       "      <th>Win %</th>\n",
       "      <th>Role %</th>\n",
       "      <th>Pick %</th>\n",
       "      <th>Ban %</th>\n",
       "      <th>KDA</th>\n",
       "    </tr>\n",
       "  </thead>\n",
       "  <tbody>\n",
       "    <tr>\n",
       "      <th>0</th>\n",
       "      <td>Aatrox</td>\n",
       "      <td>Fighter</td>\n",
       "      <td>TOP</td>\n",
       "      <td>God</td>\n",
       "      <td>90.73</td>\n",
       "      <td>-0.25</td>\n",
       "      <td>49.95%</td>\n",
       "      <td>93.20%</td>\n",
       "      <td>14.50%</td>\n",
       "      <td>26.23%</td>\n",
       "      <td>1.94</td>\n",
       "    </tr>\n",
       "    <tr>\n",
       "      <th>1</th>\n",
       "      <td>Ahri</td>\n",
       "      <td>Mage</td>\n",
       "      <td>MID</td>\n",
       "      <td>S</td>\n",
       "      <td>61.32</td>\n",
       "      <td>-3.47</td>\n",
       "      <td>49.37%</td>\n",
       "      <td>94.54%</td>\n",
       "      <td>6.92%</td>\n",
       "      <td>3.28%</td>\n",
       "      <td>2.48</td>\n",
       "    </tr>\n",
       "    <tr>\n",
       "      <th>2</th>\n",
       "      <td>Akali</td>\n",
       "      <td>Assassin</td>\n",
       "      <td>MID</td>\n",
       "      <td>S</td>\n",
       "      <td>67.06</td>\n",
       "      <td>-1.56</td>\n",
       "      <td>48.37%</td>\n",
       "      <td>74.49%</td>\n",
       "      <td>8.24%</td>\n",
       "      <td>14.46%</td>\n",
       "      <td>2.36</td>\n",
       "    </tr>\n",
       "    <tr>\n",
       "      <th>3</th>\n",
       "      <td>Akali</td>\n",
       "      <td>Assassin</td>\n",
       "      <td>TOP</td>\n",
       "      <td>B</td>\n",
       "      <td>44.92</td>\n",
       "      <td>2.34</td>\n",
       "      <td>47.21%</td>\n",
       "      <td>24.65%</td>\n",
       "      <td>2.74%</td>\n",
       "      <td>14.46%</td>\n",
       "      <td>2.03</td>\n",
       "    </tr>\n",
       "    <tr>\n",
       "      <th>4</th>\n",
       "      <td>Akshan</td>\n",
       "      <td>Marksman</td>\n",
       "      <td>MID</td>\n",
       "      <td>A</td>\n",
       "      <td>49.99</td>\n",
       "      <td>1.25</td>\n",
       "      <td>51.65%</td>\n",
       "      <td>65.06%</td>\n",
       "      <td>2.63%</td>\n",
       "      <td>5.04%</td>\n",
       "      <td>2.23</td>\n",
       "    </tr>\n",
       "  </tbody>\n",
       "</table>\n",
       "</div>"
      ],
      "text/plain": [
       "     Name     Class Role Tier  Score  Trend   Win %  Role %  Pick %   Ban %  \\\n",
       "0  Aatrox   Fighter  TOP  God  90.73  -0.25  49.95%  93.20%  14.50%  26.23%   \n",
       "1    Ahri      Mage  MID    S  61.32  -3.47  49.37%  94.54%   6.92%   3.28%   \n",
       "2   Akali  Assassin  MID    S  67.06  -1.56  48.37%  74.49%   8.24%  14.46%   \n",
       "3   Akali  Assassin  TOP    B  44.92   2.34  47.21%  24.65%   2.74%  14.46%   \n",
       "4  Akshan  Marksman  MID    A  49.99   1.25  51.65%  65.06%   2.63%   5.04%   \n",
       "\n",
       "    KDA  \n",
       "0  1.94  \n",
       "1  2.48  \n",
       "2  2.36  \n",
       "3  2.03  \n",
       "4  2.23  "
      ]
     },
     "execution_count": 4,
     "metadata": {},
     "output_type": "execute_result"
    }
   ],
   "source": [
    "df.head(5)"
   ]
  },
  {
   "cell_type": "markdown",
   "metadata": {},
   "source": [
    "Riot Utilizes 3 main metrics in terms of deciding what champions need to be balanced, Win Rate, Ban Rate and Pick Rate. These alongside Champion Name and Role will be included in the next dataset. All other columns will be dropped."
   ]
  },
  {
   "cell_type": "code",
   "execution_count": 28,
   "metadata": {},
   "outputs": [
    {
     "data": {
      "text/html": [
       "<div>\n",
       "<style scoped>\n",
       "    .dataframe tbody tr th:only-of-type {\n",
       "        vertical-align: middle;\n",
       "    }\n",
       "\n",
       "    .dataframe tbody tr th {\n",
       "        vertical-align: top;\n",
       "    }\n",
       "\n",
       "    .dataframe thead th {\n",
       "        text-align: right;\n",
       "    }\n",
       "</style>\n",
       "<table border=\"1\" class=\"dataframe\">\n",
       "  <thead>\n",
       "    <tr style=\"text-align: right;\">\n",
       "      <th></th>\n",
       "      <th>Name</th>\n",
       "      <th>Role</th>\n",
       "      <th>Win %</th>\n",
       "      <th>Pick %</th>\n",
       "      <th>Ban %</th>\n",
       "    </tr>\n",
       "  </thead>\n",
       "  <tbody>\n",
       "    <tr>\n",
       "      <th>0</th>\n",
       "      <td>Aatrox</td>\n",
       "      <td>TOP</td>\n",
       "      <td>49.95%</td>\n",
       "      <td>14.50%</td>\n",
       "      <td>26.23%</td>\n",
       "    </tr>\n",
       "    <tr>\n",
       "      <th>1</th>\n",
       "      <td>Ahri</td>\n",
       "      <td>MID</td>\n",
       "      <td>49.37%</td>\n",
       "      <td>6.92%</td>\n",
       "      <td>3.28%</td>\n",
       "    </tr>\n",
       "    <tr>\n",
       "      <th>2</th>\n",
       "      <td>Akali</td>\n",
       "      <td>MID</td>\n",
       "      <td>48.37%</td>\n",
       "      <td>8.24%</td>\n",
       "      <td>14.46%</td>\n",
       "    </tr>\n",
       "    <tr>\n",
       "      <th>3</th>\n",
       "      <td>Akali</td>\n",
       "      <td>TOP</td>\n",
       "      <td>47.21%</td>\n",
       "      <td>2.74%</td>\n",
       "      <td>14.46%</td>\n",
       "    </tr>\n",
       "    <tr>\n",
       "      <th>4</th>\n",
       "      <td>Akshan</td>\n",
       "      <td>MID</td>\n",
       "      <td>51.65%</td>\n",
       "      <td>2.63%</td>\n",
       "      <td>5.04%</td>\n",
       "    </tr>\n",
       "    <tr>\n",
       "      <th>...</th>\n",
       "      <td>...</td>\n",
       "      <td>...</td>\n",
       "      <td>...</td>\n",
       "      <td>...</td>\n",
       "      <td>...</td>\n",
       "    </tr>\n",
       "    <tr>\n",
       "      <th>238</th>\n",
       "      <td>Zilean</td>\n",
       "      <td>SUPPORT</td>\n",
       "      <td>51.41%</td>\n",
       "      <td>3.40%</td>\n",
       "      <td>2.33%</td>\n",
       "    </tr>\n",
       "    <tr>\n",
       "      <th>239</th>\n",
       "      <td>Zilean</td>\n",
       "      <td>MID</td>\n",
       "      <td>51.54%</td>\n",
       "      <td>0.73%</td>\n",
       "      <td>2.33%</td>\n",
       "    </tr>\n",
       "    <tr>\n",
       "      <th>240</th>\n",
       "      <td>Zoe</td>\n",
       "      <td>MID</td>\n",
       "      <td>48.86%</td>\n",
       "      <td>3.77%</td>\n",
       "      <td>1.97%</td>\n",
       "    </tr>\n",
       "    <tr>\n",
       "      <th>241</th>\n",
       "      <td>Zoe</td>\n",
       "      <td>SUPPORT</td>\n",
       "      <td>47.17%</td>\n",
       "      <td>0.50%</td>\n",
       "      <td>1.77%</td>\n",
       "    </tr>\n",
       "    <tr>\n",
       "      <th>242</th>\n",
       "      <td>Zyra</td>\n",
       "      <td>SUPPORT</td>\n",
       "      <td>52.55%</td>\n",
       "      <td>4.02%</td>\n",
       "      <td>2.49%</td>\n",
       "    </tr>\n",
       "  </tbody>\n",
       "</table>\n",
       "<p>243 rows × 5 columns</p>\n",
       "</div>"
      ],
      "text/plain": [
       "       Name     Role   Win %  Pick %   Ban %\n",
       "0    Aatrox      TOP  49.95%  14.50%  26.23%\n",
       "1      Ahri      MID  49.37%   6.92%   3.28%\n",
       "2     Akali      MID  48.37%   8.24%  14.46%\n",
       "3     Akali      TOP  47.21%   2.74%  14.46%\n",
       "4    Akshan      MID  51.65%   2.63%   5.04%\n",
       "..      ...      ...     ...     ...     ...\n",
       "238  Zilean  SUPPORT  51.41%   3.40%   2.33%\n",
       "239  Zilean      MID  51.54%   0.73%   2.33%\n",
       "240     Zoe      MID  48.86%   3.77%   1.97%\n",
       "241     Zoe  SUPPORT  47.17%   0.50%   1.77%\n",
       "242    Zyra  SUPPORT  52.55%   4.02%   2.49%\n",
       "\n",
       "[243 rows x 5 columns]"
      ]
     },
     "execution_count": 28,
     "metadata": {},
     "output_type": "execute_result"
    }
   ],
   "source": [
    "df.drop([\"Class\", \"Tier\", \"Score\", \"Trend\", \"Role %\", \"KDA\"], axis = 1, inplace=True)\n",
    "df"
   ]
  },
  {
   "cell_type": "markdown",
   "metadata": {},
   "source": [
    "I will then change some of the object oriented variables into floats for analysis"
   ]
  },
  {
   "cell_type": "code",
   "execution_count": 29,
   "metadata": {},
   "outputs": [
    {
     "data": {
      "text/html": [
       "<div>\n",
       "<style scoped>\n",
       "    .dataframe tbody tr th:only-of-type {\n",
       "        vertical-align: middle;\n",
       "    }\n",
       "\n",
       "    .dataframe tbody tr th {\n",
       "        vertical-align: top;\n",
       "    }\n",
       "\n",
       "    .dataframe thead th {\n",
       "        text-align: right;\n",
       "    }\n",
       "</style>\n",
       "<table border=\"1\" class=\"dataframe\">\n",
       "  <thead>\n",
       "    <tr style=\"text-align: right;\">\n",
       "      <th></th>\n",
       "      <th>Name</th>\n",
       "      <th>Role</th>\n",
       "      <th>Win %</th>\n",
       "      <th>Pick %</th>\n",
       "      <th>Ban %</th>\n",
       "    </tr>\n",
       "  </thead>\n",
       "  <tbody>\n",
       "    <tr>\n",
       "      <th>0</th>\n",
       "      <td>Aatrox</td>\n",
       "      <td>TOP</td>\n",
       "      <td>49.95</td>\n",
       "      <td>14.50</td>\n",
       "      <td>26.23</td>\n",
       "    </tr>\n",
       "    <tr>\n",
       "      <th>1</th>\n",
       "      <td>Ahri</td>\n",
       "      <td>MID</td>\n",
       "      <td>49.37</td>\n",
       "      <td>6.92</td>\n",
       "      <td>3.28</td>\n",
       "    </tr>\n",
       "    <tr>\n",
       "      <th>2</th>\n",
       "      <td>Akali</td>\n",
       "      <td>MID</td>\n",
       "      <td>48.37</td>\n",
       "      <td>8.24</td>\n",
       "      <td>14.46</td>\n",
       "    </tr>\n",
       "    <tr>\n",
       "      <th>3</th>\n",
       "      <td>Akali</td>\n",
       "      <td>TOP</td>\n",
       "      <td>47.21</td>\n",
       "      <td>2.74</td>\n",
       "      <td>14.46</td>\n",
       "    </tr>\n",
       "    <tr>\n",
       "      <th>4</th>\n",
       "      <td>Akshan</td>\n",
       "      <td>MID</td>\n",
       "      <td>51.65</td>\n",
       "      <td>2.63</td>\n",
       "      <td>5.04</td>\n",
       "    </tr>\n",
       "  </tbody>\n",
       "</table>\n",
       "</div>"
      ],
      "text/plain": [
       "     Name Role  Win %  Pick %  Ban %\n",
       "0  Aatrox  TOP  49.95   14.50  26.23\n",
       "1    Ahri  MID  49.37    6.92   3.28\n",
       "2   Akali  MID  48.37    8.24  14.46\n",
       "3   Akali  TOP  47.21    2.74  14.46\n",
       "4  Akshan  MID  51.65    2.63   5.04"
      ]
     },
     "execution_count": 29,
     "metadata": {},
     "output_type": "execute_result"
    }
   ],
   "source": [
    "df['Win %'] = df['Win %'].str.replace('%', '')\n",
    "df['Ban %'] = df['Ban %'].str.replace('%', '')\n",
    "df['Pick %'] = df['Pick %'].str.replace('%', '')\n",
    "df['Pick %'] = df['Pick %'].astype(float)\n",
    "df['Ban %'] = df['Ban %'].astype(float)\n",
    "df['Win %'] = df['Win %'].astype(float)\n",
    "df.head(5)"
   ]
  },
  {
   "cell_type": "markdown",
   "metadata": {},
   "source": [
    "Now I will be creating a dataframe copy for the analysis with the variables we need for this analysis; Champion Names, Roles, Win %, and Ban % for nerfs and Champion Names, Roles, Win %, and Pick %."
   ]
  },
  {
   "cell_type": "code",
   "execution_count": 31,
   "metadata": {},
   "outputs": [
    {
     "data": {
      "text/html": [
       "<div>\n",
       "<style scoped>\n",
       "    .dataframe tbody tr th:only-of-type {\n",
       "        vertical-align: middle;\n",
       "    }\n",
       "\n",
       "    .dataframe tbody tr th {\n",
       "        vertical-align: top;\n",
       "    }\n",
       "\n",
       "    .dataframe thead th {\n",
       "        text-align: right;\n",
       "    }\n",
       "</style>\n",
       "<table border=\"1\" class=\"dataframe\">\n",
       "  <thead>\n",
       "    <tr style=\"text-align: right;\">\n",
       "      <th></th>\n",
       "      <th>Name</th>\n",
       "      <th>Role</th>\n",
       "      <th>Win %</th>\n",
       "      <th>Ban %</th>\n",
       "    </tr>\n",
       "  </thead>\n",
       "  <tbody>\n",
       "    <tr>\n",
       "      <th>0</th>\n",
       "      <td>Aatrox</td>\n",
       "      <td>TOP</td>\n",
       "      <td>49.95</td>\n",
       "      <td>26.23</td>\n",
       "    </tr>\n",
       "    <tr>\n",
       "      <th>1</th>\n",
       "      <td>Ahri</td>\n",
       "      <td>MID</td>\n",
       "      <td>49.37</td>\n",
       "      <td>3.28</td>\n",
       "    </tr>\n",
       "    <tr>\n",
       "      <th>2</th>\n",
       "      <td>Akali</td>\n",
       "      <td>MID</td>\n",
       "      <td>48.37</td>\n",
       "      <td>14.46</td>\n",
       "    </tr>\n",
       "    <tr>\n",
       "      <th>3</th>\n",
       "      <td>Akali</td>\n",
       "      <td>TOP</td>\n",
       "      <td>47.21</td>\n",
       "      <td>14.46</td>\n",
       "    </tr>\n",
       "    <tr>\n",
       "      <th>4</th>\n",
       "      <td>Akshan</td>\n",
       "      <td>MID</td>\n",
       "      <td>51.65</td>\n",
       "      <td>5.04</td>\n",
       "    </tr>\n",
       "  </tbody>\n",
       "</table>\n",
       "</div>"
      ],
      "text/plain": [
       "     Name Role  Win %  Ban %\n",
       "0  Aatrox  TOP  49.95  26.23\n",
       "1    Ahri  MID  49.37   3.28\n",
       "2   Akali  MID  48.37  14.46\n",
       "3   Akali  TOP  47.21  14.46\n",
       "4  Akshan  MID  51.65   5.04"
      ]
     },
     "execution_count": 31,
     "metadata": {},
     "output_type": "execute_result"
    }
   ],
   "source": [
    "nerf_league_df = df[['Name', 'Role', 'Win %', 'Ban %']]\n",
    "buff_league_df = df[['Name', 'Role', 'Win %', 'Pick %']]\n",
    "nerf_league_df.head(5)"
   ]
  },
  {
   "cell_type": "markdown",
   "metadata": {},
   "source": [
    "The first Submission we will be evaluating for the balance team is a list of champions we believe should be Nerfed. Please note that some of the criteria for nerf had to be altered for the purpose of this analysis as the data was not present. For a full list of criteria please go to (https://www.esports.net/news/lol/riot-games-buff-nerf-criteria/) for a more comprehensive list.\n",
    "\n",
    "Riot will nerf a champion if ANY of the statements are true:\n",
    "\n",
    "If a champion has a win rate higher than 52.5%.\n",
    "\n",
    "If the ban rate exceeds 45%."
   ]
  },
  {
   "cell_type": "code",
   "execution_count": 38,
   "metadata": {},
   "outputs": [
    {
     "data": {
      "text/plain": [
       "array([\"Bel'Veth\", 'Cassiopeia', 'Diana', 'Heimerdinger', 'Janna',\n",
       "       'Karthus', 'Neeko', 'Nilah', 'Pantheon', 'Rell', 'Renata Glasc',\n",
       "       'Seraphine', 'Singed', 'Skarner', 'Swain', 'Zac', 'Zyra'],\n",
       "      dtype=object)"
      ]
     },
     "execution_count": 38,
     "metadata": {},
     "output_type": "execute_result"
    }
   ],
   "source": [
    "nerf = nerf_league_df.loc[(nerf_league_df['Win %'] >= 52.5) | (nerf_league_df['Ban %'] > 45)]\n",
    "nerf['Name'].unique()"
   ]
  },
  {
   "cell_type": "markdown",
   "metadata": {},
   "source": [
    "The Second Submission we will be evaluating for the balance team is a list of champions we believe should be Buffed. Please note that some of the criteria for nerf had to be altered for the purpose of this analysis as the data was not present. For a full list of criteria please go to (https://www.esports.net/news/lol/riot-games-buff-nerf-criteria/) for a more comprehensive list.\n",
    "\n",
    "Riot will buff a champion if ALL of the statements are true:\n",
    "\n",
    "Below 49% win rate average between Iron 4 and Gold 1.\n",
    "\n",
    "Below 49% win rate average between Plat 4 and Grandmaster.\n",
    "\n",
    "Below 5% of games pick the certain champion in Challenger.\n",
    "\n",
    "Below 5% of games pick the certain champion in professional play."
   ]
  },
  {
   "cell_type": "code",
   "execution_count": 37,
   "metadata": {},
   "outputs": [
    {
     "data": {
      "text/plain": [
       "array(['Akali', 'Alistar', 'Anivia', 'Annie', 'Ashe', 'Aurelion Sol',\n",
       "       'Azir', 'Brand', 'Cassiopeia', 'Corki', 'Fizz', 'Galio',\n",
       "       'Gangplank', 'Gnar', 'Gragas', 'Gwen', 'Ivern', 'Jayce', 'Kalista',\n",
       "       'LeBlanc', 'Lissandra', 'Malphite', 'Nidalee', 'Pantheon',\n",
       "       'Qiyana', 'Rakan', 'Renekton', 'Rengar', 'Rumble', 'Ryze',\n",
       "       'Syndra', 'Tahm Kench', 'Talon', 'Twisted Fate', 'Udyr', 'Varus',\n",
       "       'Wukong', 'Xayah', 'Yasuo', 'Yone', 'Zed', 'Zeri', 'Zoe'],\n",
       "      dtype=object)"
      ]
     },
     "execution_count": 37,
     "metadata": {},
     "output_type": "execute_result"
    }
   ],
   "source": [
    "buff = buff_league_df.loc[(buff_league_df['Win %'] < 49) & (buff_league_df['Pick %'] < 5)]\n",
    "buff['Name'].unique()"
   ]
  },
  {
   "cell_type": "markdown",
   "metadata": {},
   "source": [
    "Please note that for the purpose of this analysis, stratified data such as Rankings are not within the dataset and analyzing the data for specific rankings was not included"
   ]
  }
 ],
 "metadata": {
  "kernelspec": {
   "display_name": "Python 3 (ipykernel)",
   "language": "python",
   "name": "python3"
  },
  "language_info": {
   "codemirror_mode": {
    "name": "ipython",
    "version": 3
   },
   "file_extension": ".py",
   "mimetype": "text/x-python",
   "name": "python",
   "nbconvert_exporter": "python",
   "pygments_lexer": "ipython3",
   "version": "3.9.7"
  },
  "vscode": {
   "interpreter": {
    "hash": "196d1ec258f7e51d07b3cb76c86b0492a725ac6526c6386ffad5ccfe940580aa"
   }
  }
 },
 "nbformat": 4,
 "nbformat_minor": 2
}
