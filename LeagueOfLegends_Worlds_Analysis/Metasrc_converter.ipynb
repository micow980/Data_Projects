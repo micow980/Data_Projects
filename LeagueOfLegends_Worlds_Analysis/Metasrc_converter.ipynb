{
 "cells": [
  {
   "cell_type": "code",
   "execution_count": 29,
   "metadata": {},
   "outputs": [],
   "source": [
    "import pandas as pd\n",
    "import requests\n",
    "from bs4 import BeautifulSoup"
   ]
  },
  {
   "attachments": {},
   "cell_type": "markdown",
   "metadata": {},
   "source": [
    "For the data extraction process we will be utilizing the request and bs4 library in order to grab our desired dataset."
   ]
  },
  {
   "cell_type": "code",
   "execution_count": null,
   "metadata": {},
   "outputs": [],
   "source": [
    "# Send a GET request to the website\n",
    "response = requests.get('https://www.metasrc.com/5v5/12.18/stats?ranks=challenger')\n",
    "\n",
    "# Parse the HTML content\n",
    "soup = BeautifulSoup(response.text, 'html.parser')\n",
    "\n",
    "# Find the table in the HTML\n",
    "table = soup.find('table')\n",
    "\n",
    "# Iterate through the rows of the table\n",
    "for row in table.find_all('tr'):\n",
    "  # Iterate through the cells of the row\n",
    "  for cell in row.find_all('td'):\n",
    "    # Extract the text from the cell\n",
    "    print(cell.text)"
   ]
  },
  {
   "cell_type": "code",
   "execution_count": null,
   "metadata": {},
   "outputs": [],
   "source": [
    "df3 = pd.DataFrame()\n",
    "\n",
    "# Iterate through the rows of the table\n",
    "for row in table.find_all('tr'):\n",
    "  # Extract the text from the cells\n",
    "  data = [cell.text for cell in row.find_all('td')]\n",
    "\n",
    "  # Append the data to the DataFrame\n",
    "  df3 = df3.append(pd.Series(data), ignore_index=True)\n",
    "\n",
    "# Print the resulting DataFrame\n",
    "print(df3)"
   ]
  },
  {
   "attachments": {},
   "cell_type": "markdown",
   "metadata": {},
   "source": [
    "With beautifulsoup, unfortunately, some of the column headers were converted into 'NaN', we will be re-naming the columns to match the dataset seen online."
   ]
  },
  {
   "cell_type": "code",
   "execution_count": 52,
   "metadata": {},
   "outputs": [],
   "source": [
    "column_labels = ['Name', 'Role', 'Tier', 'Score', 'Trend', 'Win%', 'Role%', 'Pick%', 'Ban%', 'KDA']"
   ]
  },
  {
   "cell_type": "code",
   "execution_count": 53,
   "metadata": {},
   "outputs": [],
   "source": [
    "df3 = df3.rename(columns=dict(zip(df3.columns, column_labels)))"
   ]
  },
  {
   "cell_type": "code",
   "execution_count": null,
   "metadata": {},
   "outputs": [],
   "source": [
    "df3.head()"
   ]
  },
  {
   "attachments": {},
   "cell_type": "markdown",
   "metadata": {},
   "source": [
    "Once the columns have been relabeled, the NaN values were converted into the top row of the dataframe, we will now be dropping the first row as it was the previous NaN titles"
   ]
  },
  {
   "cell_type": "code",
   "execution_count": 54,
   "metadata": {},
   "outputs": [],
   "source": [
    "df3 = df3.drop(index=0)"
   ]
  },
  {
   "cell_type": "code",
   "execution_count": null,
   "metadata": {},
   "outputs": [],
   "source": [
    "df3.head()"
   ]
  },
  {
   "attachments": {},
   "cell_type": "markdown",
   "metadata": {},
   "source": [
    "We see that for the Names of the champions, they are repeated here twice, when we want it to be once. i.e. 'AatroxAatrox' --> 'Aatrox'. This was likely as the website utilizes an image of the champion which was labeled as the champions name. The line of code before will iterate through the name column and make it so the repeated values are made singular."
   ]
  },
  {
   "cell_type": "code",
   "execution_count": 55,
   "metadata": {},
   "outputs": [
    {
     "name": "stderr",
     "output_type": "stream",
     "text": [
      "C:\\Users\\Micha\\AppData\\Local\\Temp\\ipykernel_20844\\1823088570.py:1: FutureWarning: The default value of regex will change from True to False in a future version.\n",
      "  df3['Name'] = df3['Name'].str.replace(r'(\\b\\w+)\\1', r'\\1')\n"
     ]
    }
   ],
   "source": [
    "df3['Name'] = df3['Name'].str.replace(r'(\\b\\w+)\\1', r'\\1')\n"
   ]
  },
  {
   "cell_type": "code",
   "execution_count": 56,
   "metadata": {},
   "outputs": [
    {
     "data": {
      "text/html": [
       "<div>\n",
       "<style scoped>\n",
       "    .dataframe tbody tr th:only-of-type {\n",
       "        vertical-align: middle;\n",
       "    }\n",
       "\n",
       "    .dataframe tbody tr th {\n",
       "        vertical-align: top;\n",
       "    }\n",
       "\n",
       "    .dataframe thead th {\n",
       "        text-align: right;\n",
       "    }\n",
       "</style>\n",
       "<table border=\"1\" class=\"dataframe\">\n",
       "  <thead>\n",
       "    <tr style=\"text-align: right;\">\n",
       "      <th></th>\n",
       "      <th>Name</th>\n",
       "      <th>Role</th>\n",
       "      <th>Tier</th>\n",
       "      <th>Score</th>\n",
       "      <th>Trend</th>\n",
       "      <th>Win%</th>\n",
       "      <th>Role%</th>\n",
       "      <th>Pick%</th>\n",
       "      <th>Ban%</th>\n",
       "      <th>KDA</th>\n",
       "    </tr>\n",
       "  </thead>\n",
       "  <tbody>\n",
       "    <tr>\n",
       "      <th>1</th>\n",
       "      <td>Aatrox</td>\n",
       "      <td>TOP</td>\n",
       "      <td>God / S+</td>\n",
       "      <td>87.01</td>\n",
       "      <td>+2.37</td>\n",
       "      <td>52.00%</td>\n",
       "      <td>93.22%</td>\n",
       "      <td>21.88%</td>\n",
       "      <td>32.96%</td>\n",
       "      <td>2.12</td>\n",
       "    </tr>\n",
       "    <tr>\n",
       "      <th>2</th>\n",
       "      <td>Ahri</td>\n",
       "      <td>MID</td>\n",
       "      <td>Strong / S</td>\n",
       "      <td>57.30</td>\n",
       "      <td>-4.49</td>\n",
       "      <td>51.54%</td>\n",
       "      <td>98.48%</td>\n",
       "      <td>7.33%</td>\n",
       "      <td>2.27%</td>\n",
       "      <td>2.54</td>\n",
       "    </tr>\n",
       "    <tr>\n",
       "      <th>3</th>\n",
       "      <td>Akali</td>\n",
       "      <td>MID</td>\n",
       "      <td>Strong / S</td>\n",
       "      <td>57.70</td>\n",
       "      <td>+0.69</td>\n",
       "      <td>48.07%</td>\n",
       "      <td>73.73%</td>\n",
       "      <td>8.10%</td>\n",
       "      <td>10.24%</td>\n",
       "      <td>2.56</td>\n",
       "    </tr>\n",
       "    <tr>\n",
       "      <th>4</th>\n",
       "      <td>Akali</td>\n",
       "      <td>TOP</td>\n",
       "      <td>Fair / B</td>\n",
       "      <td>47.84</td>\n",
       "      <td>+10.61</td>\n",
       "      <td>48.78%</td>\n",
       "      <td>25.95%</td>\n",
       "      <td>3.05%</td>\n",
       "      <td>10.24%</td>\n",
       "      <td>2.28</td>\n",
       "    </tr>\n",
       "    <tr>\n",
       "      <th>5</th>\n",
       "      <td>Akshan</td>\n",
       "      <td>MID</td>\n",
       "      <td>Strong / S</td>\n",
       "      <td>59.47</td>\n",
       "      <td>+12.85</td>\n",
       "      <td>64.71%</td>\n",
       "      <td>55.28%</td>\n",
       "      <td>3.01%</td>\n",
       "      <td>5.33%</td>\n",
       "      <td>2.74</td>\n",
       "    </tr>\n",
       "  </tbody>\n",
       "</table>\n",
       "</div>"
      ],
      "text/plain": [
       "     Name Role        Tier  Score   Trend    Win%   Role%   Pick%    Ban%  \\\n",
       "1  Aatrox  TOP    God / S+  87.01   +2.37  52.00%  93.22%  21.88%  32.96%   \n",
       "2    Ahri  MID  Strong / S  57.30   -4.49  51.54%  98.48%   7.33%   2.27%   \n",
       "3   Akali  MID  Strong / S  57.70   +0.69  48.07%  73.73%   8.10%  10.24%   \n",
       "4   Akali  TOP    Fair / B  47.84  +10.61  48.78%  25.95%   3.05%  10.24%   \n",
       "5  Akshan  MID  Strong / S  59.47  +12.85  64.71%  55.28%   3.01%   5.33%   \n",
       "\n",
       "    KDA  \n",
       "1  2.12  \n",
       "2  2.54  \n",
       "3  2.56  \n",
       "4  2.28  \n",
       "5  2.74  "
      ]
     },
     "execution_count": 56,
     "metadata": {},
     "output_type": "execute_result"
    }
   ],
   "source": [
    "df3.head()"
   ]
  },
  {
   "attachments": {},
   "cell_type": "markdown",
   "metadata": {},
   "source": [
    "df3.to_csv('challenger.csv', index=False) #turn this into a line of code in order to download the CSV"
   ]
  }
 ],
 "metadata": {
  "kernelspec": {
   "display_name": "Python 3",
   "language": "python",
   "name": "python3"
  },
  "language_info": {
   "codemirror_mode": {
    "name": "ipython",
    "version": 3
   },
   "file_extension": ".py",
   "mimetype": "text/x-python",
   "name": "python",
   "nbconvert_exporter": "python",
   "pygments_lexer": "ipython3",
   "version": "3.10.9"
  },
  "orig_nbformat": 4,
  "vscode": {
   "interpreter": {
    "hash": "196d1ec258f7e51d07b3cb76c86b0492a725ac6526c6386ffad5ccfe940580aa"
   }
  }
 },
 "nbformat": 4,
 "nbformat_minor": 2
}
