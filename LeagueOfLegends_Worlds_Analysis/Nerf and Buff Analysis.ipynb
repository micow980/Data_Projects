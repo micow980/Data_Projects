{
 "cells": [
  {
   "cell_type": "code",
   "execution_count": 21,
   "metadata": {},
   "outputs": [],
   "source": [
    "import pandas as pd\n",
    "import numpy as np\n",
    "import seaborn as sns\n",
    "import matplotlib.pyplot as plt"
   ]
  },
  {
   "cell_type": "markdown",
   "metadata": {},
   "source": [
    "Importing the CSV's needed for this analysis"
   ]
  },
  {
   "cell_type": "code",
   "execution_count": 22,
   "metadata": {},
   "outputs": [],
   "source": [
    "iron_gold_df = pd.read_csv('C:/Users/Micha/Desktop/Data Analysis Practice/League of Legends Nerf or Buff/iron_gold.csv')\n",
    "plat_gm_df = pd.read_csv('C:/Users/Micha/Desktop/Data Analysis Practice/League of Legends Nerf or Buff/plat_gm.csv')\n",
    "challenger_df = pd.read_csv('C:/Users/Micha/Desktop/Data Analysis Practice/League of Legends Nerf or Buff/challenger.csv')"
   ]
  },
  {
   "attachments": {},
   "cell_type": "markdown",
   "metadata": {},
   "source": [
    "Riot Utilizes 3 main metrics in terms of deciding what champions need to be balanced, Win Rate, Ban Rate and Pick Rate and where these rates are found in their ranking system. All other columns have been dropped in the extraction portion. Please note that riot considers rankings from 3 portions of their ranking system: Iron4-Gold1, Plat4-Grandmaster, and Challenger."
   ]
  },
  {
   "attachments": {},
   "cell_type": "markdown",
   "metadata": {},
   "source": [
    "Please note that for a Nerf to a champion were to occur, any of the following statements must be true. A nerf is a way to reduce the effectiveness of a champion, this can be considered as weakening the champion in order to reduce the effectiveness of the champion."
   ]
  },
  {
   "attachments": {},
   "cell_type": "markdown",
   "metadata": {},
   "source": [
    "If a champion has a win rate higher than 52.5% and its ban rate is five times above the average ban rate throughout Iron 4 and Gold 1.\n"
   ]
  },
  {
   "cell_type": "code",
   "execution_count": 36,
   "metadata": {},
   "outputs": [
    {
     "data": {
      "text/html": [
       "<div>\n",
       "<style scoped>\n",
       "    .dataframe tbody tr th:only-of-type {\n",
       "        vertical-align: middle;\n",
       "    }\n",
       "\n",
       "    .dataframe tbody tr th {\n",
       "        vertical-align: top;\n",
       "    }\n",
       "\n",
       "    .dataframe thead th {\n",
       "        text-align: right;\n",
       "    }\n",
       "</style>\n",
       "<table border=\"1\" class=\"dataframe\">\n",
       "  <thead>\n",
       "    <tr style=\"text-align: right;\">\n",
       "      <th></th>\n",
       "      <th>Name</th>\n",
       "      <th>Role</th>\n",
       "      <th>Win%</th>\n",
       "      <th>Pick%</th>\n",
       "      <th>Ban%</th>\n",
       "    </tr>\n",
       "  </thead>\n",
       "  <tbody>\n",
       "  </tbody>\n",
       "</table>\n",
       "</div>"
      ],
      "text/plain": [
       "Empty DataFrame\n",
       "Columns: [Name, Role, Win%, Pick%, Ban%]\n",
       "Index: []"
      ]
     },
     "execution_count": 36,
     "metadata": {},
     "output_type": "execute_result"
    }
   ],
   "source": [
    "iron_gold_mean = iron_gold_df['Ban%'].mean()\n",
    "nerf_iron_gold = iron_gold_df.loc[(iron_gold_df['Win%'] >= 52.5) & (iron_gold_df['Ban%'] > 5*iron_gold_mean)]\n",
    "nerf_iron_gold"
   ]
  },
  {
   "attachments": {},
   "cell_type": "markdown",
   "metadata": {},
   "source": [
    "If a champion has a win rate higher than 52% and its ban rate is five times above the average ban rate throughout Plat 4 to Grandmaster.\n"
   ]
  },
  {
   "cell_type": "code",
   "execution_count": 37,
   "metadata": {},
   "outputs": [
    {
     "data": {
      "text/html": [
       "<div>\n",
       "<style scoped>\n",
       "    .dataframe tbody tr th:only-of-type {\n",
       "        vertical-align: middle;\n",
       "    }\n",
       "\n",
       "    .dataframe tbody tr th {\n",
       "        vertical-align: top;\n",
       "    }\n",
       "\n",
       "    .dataframe thead th {\n",
       "        text-align: right;\n",
       "    }\n",
       "</style>\n",
       "<table border=\"1\" class=\"dataframe\">\n",
       "  <thead>\n",
       "    <tr style=\"text-align: right;\">\n",
       "      <th></th>\n",
       "      <th>Name</th>\n",
       "      <th>Role</th>\n",
       "      <th>Win%</th>\n",
       "      <th>Pick%</th>\n",
       "      <th>Ban%</th>\n",
       "    </tr>\n",
       "  </thead>\n",
       "  <tbody>\n",
       "    <tr>\n",
       "      <th>234</th>\n",
       "      <td>Zed</td>\n",
       "      <td>MID</td>\n",
       "      <td>52.02</td>\n",
       "      <td>9.43</td>\n",
       "      <td>33.17</td>\n",
       "    </tr>\n",
       "  </tbody>\n",
       "</table>\n",
       "</div>"
      ],
      "text/plain": [
       "    Name Role   Win%  Pick%   Ban%\n",
       "234  Zed  MID  52.02   9.43  33.17"
      ]
     },
     "execution_count": 37,
     "metadata": {},
     "output_type": "execute_result"
    }
   ],
   "source": [
    "plat_gm_mean = plat_gm_df['Ban%'].mean()\n",
    "nerf_plat_gm = plat_gm_df.loc[(plat_gm_df['Win%'] >= 52) & (plat_gm_df['Ban%'] > 5*plat_gm_mean)]\n",
    "nerf_plat_gm"
   ]
  },
  {
   "attachments": {},
   "cell_type": "markdown",
   "metadata": {},
   "source": [
    "If the ban rate exceeds 45% in Challenger"
   ]
  },
  {
   "cell_type": "code",
   "execution_count": 39,
   "metadata": {},
   "outputs": [
    {
     "data": {
      "text/html": [
       "<div>\n",
       "<style scoped>\n",
       "    .dataframe tbody tr th:only-of-type {\n",
       "        vertical-align: middle;\n",
       "    }\n",
       "\n",
       "    .dataframe tbody tr th {\n",
       "        vertical-align: top;\n",
       "    }\n",
       "\n",
       "    .dataframe thead th {\n",
       "        text-align: right;\n",
       "    }\n",
       "</style>\n",
       "<table border=\"1\" class=\"dataframe\">\n",
       "  <thead>\n",
       "    <tr style=\"text-align: right;\">\n",
       "      <th></th>\n",
       "      <th>Name</th>\n",
       "      <th>Role</th>\n",
       "      <th>Win%</th>\n",
       "      <th>Pick%</th>\n",
       "      <th>Ban%</th>\n",
       "    </tr>\n",
       "  </thead>\n",
       "  <tbody>\n",
       "    <tr>\n",
       "      <th>239</th>\n",
       "      <td>Zed</td>\n",
       "      <td>MID</td>\n",
       "      <td>50.21</td>\n",
       "      <td>13.01</td>\n",
       "      <td>48.84</td>\n",
       "    </tr>\n",
       "    <tr>\n",
       "      <th>240</th>\n",
       "      <td>Zed</td>\n",
       "      <td>JUNGLE</td>\n",
       "      <td>47.10</td>\n",
       "      <td>3.06</td>\n",
       "      <td>48.84</td>\n",
       "    </tr>\n",
       "  </tbody>\n",
       "</table>\n",
       "</div>"
      ],
      "text/plain": [
       "    Name    Role   Win%  Pick%   Ban%\n",
       "239  Zed     MID  50.21  13.01  48.84\n",
       "240  Zed  JUNGLE  47.10   3.06  48.84"
      ]
     },
     "execution_count": 39,
     "metadata": {},
     "output_type": "execute_result"
    }
   ],
   "source": [
    "nerf_challenger = challenger_df.loc[(challenger_df['Ban%'] > 45)]\n",
    "nerf_challenger"
   ]
  },
  {
   "attachments": {},
   "cell_type": "markdown",
   "metadata": {},
   "source": [
    "Please note that for a buff to a champion were to occur, ALL of the following statements must be true. A buff is a way to increase the effectiveness of a champion, this can be considered as strengthening the champion in order to increase the effectiveness of the champion."
   ]
  },
  {
   "cell_type": "code",
   "execution_count": 40,
   "metadata": {},
   "outputs": [
    {
     "data": {
      "text/html": [
       "<div>\n",
       "<style scoped>\n",
       "    .dataframe tbody tr th:only-of-type {\n",
       "        vertical-align: middle;\n",
       "    }\n",
       "\n",
       "    .dataframe tbody tr th {\n",
       "        vertical-align: top;\n",
       "    }\n",
       "\n",
       "    .dataframe thead th {\n",
       "        text-align: right;\n",
       "    }\n",
       "</style>\n",
       "<table border=\"1\" class=\"dataframe\">\n",
       "  <thead>\n",
       "    <tr style=\"text-align: right;\">\n",
       "      <th></th>\n",
       "      <th>Name</th>\n",
       "      <th>Role</th>\n",
       "      <th>Win%</th>\n",
       "      <th>Pick%</th>\n",
       "      <th>Ban%</th>\n",
       "    </tr>\n",
       "  </thead>\n",
       "  <tbody>\n",
       "    <tr>\n",
       "      <th>163</th>\n",
       "      <td>Sett</td>\n",
       "      <td>TOP</td>\n",
       "      <td>51.43</td>\n",
       "      <td>10.28</td>\n",
       "      <td>8.63</td>\n",
       "    </tr>\n",
       "  </tbody>\n",
       "</table>\n",
       "</div>"
      ],
      "text/plain": [
       "     Name Role   Win%  Pick%  Ban%\n",
       "163  Sett  TOP  51.43  10.28  8.63"
      ]
     },
     "execution_count": 40,
     "metadata": {},
     "output_type": "execute_result"
    }
   ],
   "source": [
    "challenger_df.loc[(challenger_df['Name'] == \"Sett\")]"
   ]
  }
 ],
 "metadata": {
  "kernelspec": {
   "display_name": "Python 3",
   "language": "python",
   "name": "python3"
  },
  "language_info": {
   "codemirror_mode": {
    "name": "ipython",
    "version": 3
   },
   "file_extension": ".py",
   "mimetype": "text/x-python",
   "name": "python",
   "nbconvert_exporter": "python",
   "pygments_lexer": "ipython3",
   "version": "3.10.9"
  },
  "orig_nbformat": 4,
  "vscode": {
   "interpreter": {
    "hash": "196d1ec258f7e51d07b3cb76c86b0492a725ac6526c6386ffad5ccfe940580aa"
   }
  }
 },
 "nbformat": 4,
 "nbformat_minor": 2
}
